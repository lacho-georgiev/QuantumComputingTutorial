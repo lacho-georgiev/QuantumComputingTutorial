{
 "cells": [
  {
   "cell_type": "code",
   "execution_count": 1,
   "id": "eca3d407",
   "metadata": {},
   "outputs": [],
   "source": [
    "from qiskit import *"
   ]
  },
  {
   "cell_type": "code",
   "execution_count": 2,
   "id": "fefb8740",
   "metadata": {},
   "outputs": [],
   "source": [
    "qr = QuantumRegister(1)"
   ]
  },
  {
   "cell_type": "code",
   "execution_count": 3,
   "id": "c43cfc01",
   "metadata": {},
   "outputs": [],
   "source": [
    "#cr = ClassicalRegister(1)"
   ]
  },
  {
   "cell_type": "code",
   "execution_count": 4,
   "id": "2d2f8168",
   "metadata": {},
   "outputs": [],
   "source": [
    "circuit = QuantumCircuit(qr)"
   ]
  },
  {
   "cell_type": "code",
   "execution_count": 5,
   "id": "7582cd16",
   "metadata": {},
   "outputs": [
    {
     "data": {
      "text/plain": [
       "<qiskit.circuit.instructionset.InstructionSet at 0x7f986fc971c0>"
      ]
     },
     "execution_count": 6,
     "metadata": {},
     "output_type": "execute_result"
    }
   ],
   "source": [
    "# Define initial_state as |1>\n",
    "initial_state = [0, 1]\n",
    "##import math\n",
    "##initial_state = [complex(1/2, 1/2), 1/math.sqrt(2)]\n",
    "circuit.initialize(initial_state, 0)"
   ]
  },
  {
   "cell_type": "code",
   "execution_count": 7,
   "id": "7ced861f",
   "metadata": {
    "scrolled": true
   },
   "outputs": [
    {
     "data": {
      "image/png": "[encoded data removed]",
      "text/plain": [
       "<Figure size 133.526x84.28 with 1 Axes>"
      ]
     },
     "execution_count": 8,
     "metadata": {},
     "output_type": "execute_result"
    }
   ],
   "source": [
    "circuit.draw(output = \"mpl\")"
   ]
  },
  {
   "cell_type": "code",
   "execution_count": 9,
   "id": "9bce7cee",
   "metadata": {},
   "outputs": [],
   "source": [
    "simulator = Aer.get_backend('statevector_simulator')"
   ]
  },
  {
   "cell_type": "code",
   "execution_count": 10,
   "id": "8c6fb092",
   "metadata": {},
   "outputs": [],
   "source": [
    "result = execute(circuit, backend=simulator).result()"
   ]
  },
  {
   "cell_type": "code",
   "execution_count": 11,
   "id": "15f4e151",
   "metadata": {},
   "outputs": [],
   "source": [
    "statevector = result.get_statevector()"
   ]
  },
  {
   "cell_type": "code",
   "execution_count": 12,
   "id": "96e362a4",
   "metadata": {},
   "outputs": [],
   "source": [
    "from qiskit.tools.visualization import plot_bloch_multivector"
   ]
  },
  {
   "cell_type": "code",
   "execution_count": 13,
   "id": "90b03bf6",
   "metadata": {},
   "outputs": [],
   "source": [
    "plot_bloch_multivector(statevector)"
   ]
  },
  {
   "cell_type": "code",
   "execution_count": 14,
   "id": "239d5aaf",
   "metadata": {},
   "outputs": [],
   "source": [
    "from qiskit.tools.visualization import plot_histogram"
   ]
  },
  {
   "cell_type": "code",
   "execution_count": 15,
   "id": "cda7d885",
   "metadata": {},
   "outputs": [],
   "source": [
    "plot_histogram(result.get_counts(circuit))"
   ]
  },
  {
   "cell_type": "code",
   "execution_count": 16,
   "id": "855a9a07",
   "metadata": {},
   "outputs": [],
   "source": []
  }
 ],
 "metadata": {
  "kernelspec": {
   "display_name": "Python 3",
   "language": "python",
   "name": "python3"
  },
  "language_info": {
   "codemirror_mode": {
    "name": "ipython",
    "version": 3
   },
   "file_extension": ".py",
   "mimetype": "text/x-python",
   "name": "python",
   "nbconvert_exporter": "python",
   "pygments_lexer": "ipython3",
   "version": "3.8.8"
  }
 },
 "nbformat": 4,
 "nbformat_minor": 5
}
