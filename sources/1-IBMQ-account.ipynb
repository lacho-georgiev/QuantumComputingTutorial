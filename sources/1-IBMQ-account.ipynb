{
 "cells": [
  {
   "cell_type": "code",
   "execution_count": 1,
   "id": "85e0b461",
   "metadata": {},
   "outputs": [],
   "source": [
    "from qiskit import IBMQ"
   ]
  },
  {
   "cell_type": "code",
   "execution_count": 2,
   "id": "6d136c06",
   "metadata": {},
   "outputs": [],
   "source": [
    "IBMQ.save_account('d3a658bf9c53aee7c445456b3ba3e3a4de3ead0df933d6073552495b296f8c77319e975cb99ed1acdceb962a2f3c0581de316a1790838e336da76b1546568467')"
   ]
  },
  {
   "cell_type": "code",
   "execution_count": 3,
   "id": "e67d0672",
   "metadata": {},
   "outputs": [],
   "source": [
    "IBMQ.load_account()"
   ]
  }
 ],
 "metadata": {
  "kernelspec": {
   "display_name": "Python 3",
   "language": "python",
   "name": "python3"
  },
  "language_info": {
   "codemirror_mode": {
    "name": "ipython",
    "version": 3
   },
   "file_extension": ".py",
   "mimetype": "text/x-python",
   "name": "python",
   "nbconvert_exporter": "python",
   "pygments_lexer": "ipython3",
   "version": "3.8.8"
  }
 },
 "nbformat": 4,
 "nbformat_minor": 5
}
